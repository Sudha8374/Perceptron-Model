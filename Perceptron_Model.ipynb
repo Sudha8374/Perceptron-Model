{
 "cells": [
  {
   "cell_type": "code",
   "execution_count": 121,
   "metadata": {},
   "outputs": [
    {
     "name": "stdout",
     "output_type": "stream",
     "text": [
      "   Administrative  Administrative_Duration  Informational  \\\n",
      "0               0                      0.0              0   \n",
      "1               0                      0.0              0   \n",
      "2               0                      0.0              0   \n",
      "3               0                      0.0              0   \n",
      "4               0                      0.0              0   \n",
      "\n",
      "   Informational_Duration  ProductRelated  ProductRelated_Duration  \\\n",
      "0                     0.0               1                 0.000000   \n",
      "1                     0.0               2                64.000000   \n",
      "2                     0.0               1                 0.000000   \n",
      "3                     0.0               2                 2.666667   \n",
      "4                     0.0              10               627.500000   \n",
      "\n",
      "   BounceRates  ExitRates  PageValues  SpecialDay Month  OperatingSystems  \\\n",
      "0         0.20       0.20         0.0         0.0   Feb                 1   \n",
      "1         0.00       0.10         0.0         0.0   Feb                 2   \n",
      "2         0.20       0.20         0.0         0.0   Feb                 4   \n",
      "3         0.05       0.14         0.0         0.0   Feb                 3   \n",
      "4         0.02       0.05         0.0         0.0   Feb                 3   \n",
      "\n",
      "   Browser  Region  TrafficType        VisitorType  Weekend  Revenue  \n",
      "0        1       1            1  Returning_Visitor    False    False  \n",
      "1        2       1            2  Returning_Visitor    False    False  \n",
      "2        1       9            3  Returning_Visitor    False    False  \n",
      "3        2       2            4  Returning_Visitor    False    False  \n",
      "4        3       1            4  Returning_Visitor     True    False  \n"
     ]
    }
   ],
   "source": [
    "import numpy as np\n",
    "import pandas as pd\n",
    "data=pd.read_csv('online_shoppers_intention.csv')\n",
    "print(data.head())"
   ]
  },
  {
   "cell_type": "code",
   "execution_count": 122,
   "metadata": {},
   "outputs": [
    {
     "data": {
      "text/plain": [
       "(12330, 18)"
      ]
     },
     "execution_count": 122,
     "metadata": {},
     "output_type": "execute_result"
    }
   ],
   "source": [
    "data.shape"
   ]
  },
  {
   "cell_type": "code",
   "execution_count": 123,
   "metadata": {},
   "outputs": [
    {
     "data": {
      "text/plain": [
       "<bound method NDFrame.describe of        Administrative  Administrative_Duration  Informational  \\\n",
       "0                   0                 0.000000              0   \n",
       "1                   0                 0.000000              0   \n",
       "2                   0                 0.000000              0   \n",
       "3                   0                 0.000000              0   \n",
       "4                   0                 0.000000              0   \n",
       "5                   0                 0.000000              0   \n",
       "6                   0                 0.000000              0   \n",
       "7                   1                 0.000000              0   \n",
       "8                   0                 0.000000              0   \n",
       "9                   0                 0.000000              0   \n",
       "10                  0                 0.000000              0   \n",
       "11                  0                 0.000000              0   \n",
       "12                  0                 0.000000              0   \n",
       "13                  0                 0.000000              0   \n",
       "14                  0                 0.000000              0   \n",
       "15                  2                53.000000              0   \n",
       "16                  0                 0.000000              0   \n",
       "17                  0                 0.000000              0   \n",
       "18                  0                 0.000000              0   \n",
       "19                  0                 0.000000              0   \n",
       "20                  0                 0.000000              0   \n",
       "21                  0                 0.000000              0   \n",
       "22                  0                 0.000000              0   \n",
       "23                  0                 0.000000              0   \n",
       "24                  0                 0.000000              0   \n",
       "25                  0                 0.000000              0   \n",
       "26                  4                64.600000              0   \n",
       "27                  0                 0.000000              0   \n",
       "28                  0                 0.000000              0   \n",
       "29                  1                 6.000000              1   \n",
       "...               ...                      ...            ...   \n",
       "12300               0                 0.000000              0   \n",
       "12301               0                 0.000000              0   \n",
       "12302               0                 0.000000              0   \n",
       "12303               0                 0.000000              0   \n",
       "12304               0                 0.000000              0   \n",
       "12305               0                 0.000000              0   \n",
       "12306               0                 0.000000              0   \n",
       "12307               2               305.125000              3   \n",
       "12308               1                19.000000              0   \n",
       "12309               3                54.000000              0   \n",
       "12310               1                 5.000000              0   \n",
       "12311               1                 0.000000              2   \n",
       "12312               7               150.357143              1   \n",
       "12313               3                16.000000              3   \n",
       "12314               0                 0.000000              0   \n",
       "12315               0                 0.000000              0   \n",
       "12316               0                 0.000000              0   \n",
       "12317               3               100.500000              0   \n",
       "12318               0                 0.000000              0   \n",
       "12319               0                 0.000000              0   \n",
       "12320               0                 0.000000              0   \n",
       "12321               0                 0.000000              0   \n",
       "12322               6                76.250000              0   \n",
       "12323               2                64.750000              0   \n",
       "12324               0                 0.000000              1   \n",
       "12325               3               145.000000              0   \n",
       "12326               0                 0.000000              0   \n",
       "12327               0                 0.000000              0   \n",
       "12328               4                75.000000              0   \n",
       "12329               0                 0.000000              0   \n",
       "\n",
       "       Informational_Duration  ProductRelated  ProductRelated_Duration  \\\n",
       "0                        0.00               1                 0.000000   \n",
       "1                        0.00               2                64.000000   \n",
       "2                        0.00               1                 0.000000   \n",
       "3                        0.00               2                 2.666667   \n",
       "4                        0.00              10               627.500000   \n",
       "5                        0.00              19               154.216667   \n",
       "6                        0.00               1                 0.000000   \n",
       "7                        0.00               0                 0.000000   \n",
       "8                        0.00               2                37.000000   \n",
       "9                        0.00               3               738.000000   \n",
       "10                       0.00               3               395.000000   \n",
       "11                       0.00              16               407.750000   \n",
       "12                       0.00               7               280.500000   \n",
       "13                       0.00               6                98.000000   \n",
       "14                       0.00               2                68.000000   \n",
       "15                       0.00              23              1668.285119   \n",
       "16                       0.00               1                 0.000000   \n",
       "17                       0.00              13               334.966667   \n",
       "18                       0.00               2                32.000000   \n",
       "19                       0.00              20              2981.166667   \n",
       "20                       0.00               8               136.166667   \n",
       "21                       0.00               2                 0.000000   \n",
       "22                       0.00               3               105.000000   \n",
       "23                       0.00               2                15.000000   \n",
       "24                       0.00               1                 0.000000   \n",
       "25                       0.00               5               156.000000   \n",
       "26                       0.00              32              1135.444444   \n",
       "27                       0.00               4                76.000000   \n",
       "28                       0.00               4                63.000000   \n",
       "29                       0.00              45              1582.750000   \n",
       "...                       ...             ...                      ...   \n",
       "12300                    0.00               9               719.583333   \n",
       "12301                    0.00               2                 0.000000   \n",
       "12302                    0.00              22               185.250000   \n",
       "12303                    0.00               3               172.000000   \n",
       "12304                    0.00              30               655.542857   \n",
       "12305                    0.00              39              1168.619841   \n",
       "12306                    0.00              13              1041.750000   \n",
       "12307                  368.25              27              1121.250000   \n",
       "12308                    0.00              45              4018.450000   \n",
       "12309                    0.00              20               262.900000   \n",
       "12310                    0.00              21               411.083333   \n",
       "12311                  211.25             144              4627.489571   \n",
       "12312                    9.00             221             11431.001240   \n",
       "12313                   86.00              15              2773.500000   \n",
       "12314                    0.00               7               705.833333   \n",
       "12315                    0.00               7               212.500000   \n",
       "12316                    0.00              44               615.000000   \n",
       "12317                    0.00              95              1453.640882   \n",
       "12318                    0.00               6               279.000000   \n",
       "12319                    0.00              21              1128.583333   \n",
       "12320                    0.00               8               143.583333   \n",
       "12321                    0.00               6                 0.000000   \n",
       "12322                    0.00              22              1075.250000   \n",
       "12323                    0.00              44              1157.976190   \n",
       "12324                    0.00              16               503.000000   \n",
       "12325                    0.00              53              1783.791667   \n",
       "12326                    0.00               5               465.750000   \n",
       "12327                    0.00               6               184.250000   \n",
       "12328                    0.00              15               346.000000   \n",
       "12329                    0.00               3                21.250000   \n",
       "\n",
       "       BounceRates  ExitRates  PageValues  SpecialDay Month  OperatingSystems  \\\n",
       "0         0.200000   0.200000    0.000000         0.0   Feb                 1   \n",
       "1         0.000000   0.100000    0.000000         0.0   Feb                 2   \n",
       "2         0.200000   0.200000    0.000000         0.0   Feb                 4   \n",
       "3         0.050000   0.140000    0.000000         0.0   Feb                 3   \n",
       "4         0.020000   0.050000    0.000000         0.0   Feb                 3   \n",
       "5         0.015789   0.024561    0.000000         0.0   Feb                 2   \n",
       "6         0.200000   0.200000    0.000000         0.4   Feb                 2   \n",
       "7         0.200000   0.200000    0.000000         0.0   Feb                 1   \n",
       "8         0.000000   0.100000    0.000000         0.8   Feb                 2   \n",
       "9         0.000000   0.022222    0.000000         0.4   Feb                 2   \n",
       "10        0.000000   0.066667    0.000000         0.0   Feb                 1   \n",
       "11        0.018750   0.025833    0.000000         0.4   Feb                 1   \n",
       "12        0.000000   0.028571    0.000000         0.0   Feb                 1   \n",
       "13        0.000000   0.066667    0.000000         0.0   Feb                 2   \n",
       "14        0.000000   0.100000    0.000000         0.0   Feb                 3   \n",
       "15        0.008333   0.016313    0.000000         0.0   Feb                 1   \n",
       "16        0.200000   0.200000    0.000000         0.0   Feb                 1   \n",
       "17        0.000000   0.007692    0.000000         0.0   Feb                 1   \n",
       "18        0.000000   0.100000    0.000000         0.0   Feb                 2   \n",
       "19        0.000000   0.010000    0.000000         0.0   Feb                 2   \n",
       "20        0.000000   0.008333    0.000000         1.0   Feb                 2   \n",
       "21        0.200000   0.200000    0.000000         0.0   Feb                 3   \n",
       "22        0.000000   0.033333    0.000000         0.0   Feb                 3   \n",
       "23        0.000000   0.100000    0.000000         0.8   Feb                 2   \n",
       "24        0.200000   0.200000    0.000000         0.0   Feb                 2   \n",
       "25        0.000000   0.040000    0.000000         0.0   Feb                 1   \n",
       "26        0.002857   0.009524    0.000000         0.0   Feb                 2   \n",
       "27        0.050000   0.100000    0.000000         0.0   Feb                 1   \n",
       "28        0.000000   0.050000    0.000000         0.2   Feb                 2   \n",
       "29        0.043478   0.050821   54.179764         0.4   Feb                 3   \n",
       "...            ...        ...         ...         ...   ...               ...   \n",
       "12300     0.022222   0.055556    0.000000         0.0   Nov                 2   \n",
       "12301     0.200000   0.200000    0.000000         0.0   Nov                 1   \n",
       "12302     0.021212   0.075758    0.000000         0.0   Nov                 2   \n",
       "12303     0.000000   0.066667    0.000000         0.0   Dec                 2   \n",
       "12304     0.006667   0.019667    0.000000         0.0   Dec                 3   \n",
       "12305     0.000000   0.009064    0.000000         0.0   Nov                 1   \n",
       "12306     0.018182   0.027273    0.000000         0.0   Dec                 2   \n",
       "12307     0.020000   0.042857   39.519807         0.0   Dec                 3   \n",
       "12308     0.009091   0.021970    0.000000         0.0   Nov                 2   \n",
       "12309     0.008333   0.055556    0.000000         0.0   Dec                 2   \n",
       "12310     0.015789   0.016140    0.000000         0.0   Nov                 3   \n",
       "12311     0.001361   0.020664    0.000000         0.0   Nov                 2   \n",
       "12312     0.011149   0.021904    1.582473         0.0   Nov                 2   \n",
       "12313     0.000000   0.030000   78.811725         0.0   Dec                 2   \n",
       "12314     0.028571   0.085714    0.000000         0.0   Dec                 5   \n",
       "12315     0.000000   0.033333    0.000000         0.0   Nov                 3   \n",
       "12316     0.013636   0.036364    0.000000         0.0   Dec                 4   \n",
       "12317     0.002105   0.012761    0.000000         0.0   Dec                 2   \n",
       "12318     0.000000   0.033333    0.000000         0.0   Dec                 1   \n",
       "12319     0.000000   0.013043    3.685401         0.0   Dec                 2   \n",
       "12320     0.014286   0.050000    0.000000         0.0   Nov                 2   \n",
       "12321     0.200000   0.200000    0.000000         0.0   Nov                 1   \n",
       "12322     0.000000   0.004167    0.000000         0.0   Dec                 2   \n",
       "12323     0.000000   0.013953    0.000000         0.0   Nov                 2   \n",
       "12324     0.000000   0.037647    0.000000         0.0   Nov                 2   \n",
       "12325     0.007143   0.029031   12.241717         0.0   Dec                 4   \n",
       "12326     0.000000   0.021333    0.000000         0.0   Nov                 3   \n",
       "12327     0.083333   0.086667    0.000000         0.0   Nov                 3   \n",
       "12328     0.000000   0.021053    0.000000         0.0   Nov                 2   \n",
       "12329     0.000000   0.066667    0.000000         0.0   Nov                 3   \n",
       "\n",
       "       Browser  Region  TrafficType        VisitorType  Weekend  Revenue  \n",
       "0            1       1            1  Returning_Visitor    False    False  \n",
       "1            2       1            2  Returning_Visitor    False    False  \n",
       "2            1       9            3  Returning_Visitor    False    False  \n",
       "3            2       2            4  Returning_Visitor    False    False  \n",
       "4            3       1            4  Returning_Visitor     True    False  \n",
       "5            2       1            3  Returning_Visitor    False    False  \n",
       "6            4       3            3  Returning_Visitor    False    False  \n",
       "7            2       1            5  Returning_Visitor     True    False  \n",
       "8            2       2            3  Returning_Visitor    False    False  \n",
       "9            4       1            2  Returning_Visitor    False    False  \n",
       "10           1       3            3  Returning_Visitor    False    False  \n",
       "11           1       4            3  Returning_Visitor    False    False  \n",
       "12           1       1            3  Returning_Visitor    False    False  \n",
       "13           5       1            3  Returning_Visitor    False    False  \n",
       "14           2       3            3  Returning_Visitor    False    False  \n",
       "15           1       9            3  Returning_Visitor    False    False  \n",
       "16           1       4            3  Returning_Visitor    False    False  \n",
       "17           1       1            4  Returning_Visitor     True    False  \n",
       "18           2       1            3  Returning_Visitor    False    False  \n",
       "19           4       4            4  Returning_Visitor    False    False  \n",
       "20           2       5            1  Returning_Visitor     True    False  \n",
       "21           3       1            3  Returning_Visitor    False    False  \n",
       "22           2       1            5  Returning_Visitor    False    False  \n",
       "23           4       1            3  Returning_Visitor    False    False  \n",
       "24           2       4            1  Returning_Visitor     True    False  \n",
       "25           1       9            3  Returning_Visitor    False    False  \n",
       "26           2       1            3  Returning_Visitor    False    False  \n",
       "27           1       1            3  Returning_Visitor    False    False  \n",
       "28           6       1            3  Returning_Visitor    False    False  \n",
       "29           2       1            1  Returning_Visitor    False    False  \n",
       "...        ...     ...          ...                ...      ...      ...  \n",
       "12300        4       4            2  Returning_Visitor    False    False  \n",
       "12301        1       4            1  Returning_Visitor    False    False  \n",
       "12302        7       1            1  Returning_Visitor     True    False  \n",
       "12303       13       9           20  Returning_Visitor    False    False  \n",
       "12304        2       1            2  Returning_Visitor     True    False  \n",
       "12305        1       4            3  Returning_Visitor    False    False  \n",
       "12306        2       5            2  Returning_Visitor    False    False  \n",
       "12307        2       1            2  Returning_Visitor    False    False  \n",
       "12308        2       3            1  Returning_Visitor     True    False  \n",
       "12309        2       1            2  Returning_Visitor    False    False  \n",
       "12310        2       7            3  Returning_Visitor    False    False  \n",
       "12311        2       1            2  Returning_Visitor    False     True  \n",
       "12312        5       1            2  Returning_Visitor     True     True  \n",
       "12313        2       1            2  Returning_Visitor    False     True  \n",
       "12314       11       4            1  Returning_Visitor     True    False  \n",
       "12315        2       1           11  Returning_Visitor     True    False  \n",
       "12316        1       3            1  Returning_Visitor    False    False  \n",
       "12317        2       3            2        New_Visitor    False    False  \n",
       "12318        2       3           10  Returning_Visitor     True    False  \n",
       "12319        2       1            2  Returning_Visitor    False    False  \n",
       "12320        2       3            1  Returning_Visitor    False    False  \n",
       "12321        8       4            1  Returning_Visitor    False    False  \n",
       "12322        2       4            2  Returning_Visitor    False    False  \n",
       "12323        2       1           10  Returning_Visitor    False    False  \n",
       "12324        2       1            1  Returning_Visitor    False    False  \n",
       "12325        6       1            1  Returning_Visitor     True    False  \n",
       "12326        2       1            8  Returning_Visitor     True    False  \n",
       "12327        2       1           13  Returning_Visitor     True    False  \n",
       "12328        2       3           11  Returning_Visitor    False    False  \n",
       "12329        2       1            2        New_Visitor     True    False  \n",
       "\n",
       "[12330 rows x 18 columns]>"
      ]
     },
     "execution_count": 123,
     "metadata": {},
     "output_type": "execute_result"
    }
   ],
   "source": [
    "data.describe"
   ]
  },
  {
   "cell_type": "code",
   "execution_count": 124,
   "metadata": {},
   "outputs": [
    {
     "data": {
      "text/plain": [
       "Index(['Administrative', 'Administrative_Duration', 'Informational',\n",
       "       'Informational_Duration', 'ProductRelated', 'ProductRelated_Duration',\n",
       "       'BounceRates', 'ExitRates', 'PageValues', 'SpecialDay', 'Month',\n",
       "       'OperatingSystems', 'Browser', 'Region', 'TrafficType', 'VisitorType',\n",
       "       'Weekend', 'Revenue'],\n",
       "      dtype='object')"
      ]
     },
     "execution_count": 124,
     "metadata": {},
     "output_type": "execute_result"
    }
   ],
   "source": [
    "data.columns"
   ]
  },
  {
   "cell_type": "code",
   "execution_count": 125,
   "metadata": {},
   "outputs": [
    {
     "data": {
      "text/plain": [
       "Administrative               int64\n",
       "Administrative_Duration    float64\n",
       "Informational                int64\n",
       "Informational_Duration     float64\n",
       "ProductRelated               int64\n",
       "ProductRelated_Duration    float64\n",
       "BounceRates                float64\n",
       "ExitRates                  float64\n",
       "PageValues                 float64\n",
       "SpecialDay                 float64\n",
       "Month                       object\n",
       "OperatingSystems             int64\n",
       "Browser                      int64\n",
       "Region                       int64\n",
       "TrafficType                  int64\n",
       "VisitorType                 object\n",
       "Weekend                       bool\n",
       "Revenue                       bool\n",
       "dtype: object"
      ]
     },
     "execution_count": 125,
     "metadata": {},
     "output_type": "execute_result"
    }
   ],
   "source": [
    "data.dtypes"
   ]
  },
  {
   "cell_type": "code",
   "execution_count": 126,
   "metadata": {},
   "outputs": [
    {
     "name": "stdout",
     "output_type": "stream",
     "text": [
      "   Administrative  Administrative_Duration  Informational  \\\n",
      "0               0                      0.0              0   \n",
      "1               0                      0.0              0   \n",
      "2               0                      0.0              0   \n",
      "3               0                      0.0              0   \n",
      "4               0                      0.0              0   \n",
      "\n",
      "   Informational_Duration  ProductRelated  ProductRelated_Duration  \\\n",
      "0                     0.0               1                 0.000000   \n",
      "1                     0.0               2                64.000000   \n",
      "2                     0.0               1                 0.000000   \n",
      "3                     0.0               2                 2.666667   \n",
      "4                     0.0              10               627.500000   \n",
      "\n",
      "   BounceRates  ExitRates  PageValues  SpecialDay  ...  Month_Jul  Month_June  \\\n",
      "0         0.20       0.20         0.0         0.0  ...          0           0   \n",
      "1         0.00       0.10         0.0         0.0  ...          0           0   \n",
      "2         0.20       0.20         0.0         0.0  ...          0           0   \n",
      "3         0.05       0.14         0.0         0.0  ...          0           0   \n",
      "4         0.02       0.05         0.0         0.0  ...          0           0   \n",
      "\n",
      "   Month_Mar  Month_May  Month_Nov  Month_Oct  Month_Sep  \\\n",
      "0          0          0          0          0          0   \n",
      "1          0          0          0          0          0   \n",
      "2          0          0          0          0          0   \n",
      "3          0          0          0          0          0   \n",
      "4          0          0          0          0          0   \n",
      "\n",
      "   VisitorType_New_Visitor  VisitorType_Other  VisitorType_Returning_Visitor  \n",
      "0                        0                  0                              1  \n",
      "1                        0                  0                              1  \n",
      "2                        0                  0                              1  \n",
      "3                        0                  0                              1  \n",
      "4                        0                  0                              1  \n",
      "\n",
      "[5 rows x 29 columns]\n"
     ]
    }
   ],
   "source": [
    "data1=pd.get_dummies(data)\n",
    "print(data1.head())"
   ]
  },
  {
   "cell_type": "code",
   "execution_count": 127,
   "metadata": {},
   "outputs": [
    {
     "data": {
      "text/plain": [
       "Index(['Administrative', 'Administrative_Duration', 'Informational',\n",
       "       'Informational_Duration', 'ProductRelated', 'ProductRelated_Duration',\n",
       "       'BounceRates', 'ExitRates', 'PageValues', 'SpecialDay',\n",
       "       'OperatingSystems', 'Browser', 'Region', 'TrafficType', 'Weekend',\n",
       "       'Revenue', 'Month_Aug', 'Month_Dec', 'Month_Feb', 'Month_Jul',\n",
       "       'Month_June', 'Month_Mar', 'Month_May', 'Month_Nov', 'Month_Oct',\n",
       "       'Month_Sep', 'VisitorType_New_Visitor', 'VisitorType_Other',\n",
       "       'VisitorType_Returning_Visitor'],\n",
       "      dtype='object')"
      ]
     },
     "execution_count": 127,
     "metadata": {},
     "output_type": "execute_result"
    }
   ],
   "source": [
    "data1.columns"
   ]
  },
  {
   "cell_type": "code",
   "execution_count": 128,
   "metadata": {},
   "outputs": [
    {
     "data": {
      "text/plain": [
       "(12330, 29)"
      ]
     },
     "execution_count": 128,
     "metadata": {},
     "output_type": "execute_result"
    }
   ],
   "source": [
    "data1.shape"
   ]
  },
  {
   "cell_type": "code",
   "execution_count": 129,
   "metadata": {},
   "outputs": [
    {
     "data": {
      "text/plain": [
       "(12330, 18)"
      ]
     },
     "execution_count": 129,
     "metadata": {},
     "output_type": "execute_result"
    }
   ],
   "source": [
    "data.shape"
   ]
  },
  {
   "cell_type": "code",
   "execution_count": 130,
   "metadata": {},
   "outputs": [
    {
     "data": {
      "text/plain": [
       "0    10422\n",
       "1     1908\n",
       "Name: Revenue, dtype: int64"
      ]
     },
     "execution_count": 130,
     "metadata": {},
     "output_type": "execute_result"
    }
   ],
   "source": [
    "from sklearn.preprocessing import LabelEncoder\n",
    "\n",
    "le = LabelEncoder()\n",
    "data['Revenue'] = le.fit_transform(data['Revenue'])\n",
    "data['Revenue'].value_counts()"
   ]
  },
  {
   "cell_type": "code",
   "execution_count": 132,
   "metadata": {},
   "outputs": [
    {
     "name": "stdout",
     "output_type": "stream",
     "text": [
      "(12330, 28)\n",
      "(12330,)\n"
     ]
    }
   ],
   "source": [
    "y=data['Revenue']\n",
    "\n",
    "\n",
    "X=data1.drop(['Revenue'],axis=1)\n",
    "print(X.shape)\n",
    "print(y.shape)"
   ]
  },
  {
   "cell_type": "code",
   "execution_count": 133,
   "metadata": {},
   "outputs": [
    {
     "name": "stdout",
     "output_type": "stream",
     "text": [
      "Shape of x_train : (8631, 28)\n",
      "Shape of y_train : (8631,)\n",
      "Shape of x_test : (3699, 28)\n",
      "Shape of y_test : (3699,)\n"
     ]
    }
   ],
   "source": [
    "from sklearn.model_selection import train_test_split\n",
    "\n",
    "x_train, x_test, y_train, y_test = train_test_split(X, y, test_size = 0.3, random_state = 0)\n",
    "\n",
    "print(\"Shape of x_train :\", x_train.shape)\n",
    "print(\"Shape of y_train :\", y_train.shape)\n",
    "print(\"Shape of x_test :\", x_test.shape)\n",
    "print(\"Shape of y_test :\", y_test.shape)"
   ]
  },
  {
   "cell_type": "code",
   "execution_count": 134,
   "metadata": {},
   "outputs": [],
   "source": [
    "\n",
    "from sklearn.preprocessing import MinMaxScaler\n",
    "\n",
    "sc = MinMaxScaler()\n",
    "\n",
    "x_train = sc.fit_transform(x_train)\n",
    "x_test = sc.fit_transform(x_test)"
   ]
  },
  {
   "cell_type": "code",
   "execution_count": 135,
   "metadata": {},
   "outputs": [],
   "source": [
    "from sklearn.decomposition import PCA\n",
    "\n",
    "pca = PCA(n_components = None)\n",
    "\n",
    "x_train = pca.fit_transform(x_train)\n",
    "x_test = pca.transform(x_test)"
   ]
  },
  {
   "cell_type": "code",
   "execution_count": 136,
   "metadata": {},
   "outputs": [
    {
     "name": "stdout",
     "output_type": "stream",
     "text": [
      "(8631, 28)\n",
      "(3699, 28)\n",
      "(3699,)\n",
      "(8631,)\n"
     ]
    }
   ],
   "source": [
    "print(x_train.shape)\n",
    "print(x_test.shape)\n",
    "print(y_test.shape)\n",
    "print(y_train.shape)"
   ]
  },
  {
   "cell_type": "code",
   "execution_count": 147,
   "metadata": {
    "scrolled": true
   },
   "outputs": [
    {
     "name": "stdout",
     "output_type": "stream",
     "text": [
      "misclassified samples: 622\n",
      "Accuracy:0.83\n"
     ]
    }
   ],
   "source": [
    "class Perceptron(object):\n",
    "\n",
    "        def __init__(self, eta, n_iter):\n",
    "                self.eta = eta\n",
    "                self.n_iter = n_iter\n",
    "\n",
    "        def fit(self, X, y):\n",
    "\n",
    "                self.w_ = np.zeros(1 + X.shape[1])\n",
    "                self.errors_=[]\n",
    "                for _ in range(self.n_iter):\n",
    "                        errors=0\n",
    "                        for xi, target in zip(X, y):\n",
    "                                error = target - self.predict(xi)\n",
    "                                if error != 0:\n",
    "                                        update = self.eta * error\n",
    "                                        self.w_[1:] += update * xi\n",
    "                                        self.w_[0] += update\n",
    "                                        errors+=int(update!=0.0)\n",
    "                        self.errors_.append(errors)\n",
    "                return self\n",
    "\n",
    "        def net_input(self, X):\n",
    "                return np.dot(X, self.w_[1:]) + self.w_[0]\n",
    "\n",
    "        def predict(self, X):\n",
    "                return np.where(self.net_input(X) >= 0.0, 0, 1)\n",
    "\n",
    "import matplotlib.pyplot as plt\n",
    "#from sklearn.linear_model import Perceptron\n",
    "\n",
    "model = Perceptron(n_iter=1000,eta=0.28)\n",
    "model.fit(x_train, y_train)\n",
    "\n",
    "y_pred = model.predict(x_test)\n",
    "print('misclassified samples: %d'%(y_test!=y_pred).sum())#compute\n",
    "from sklearn.metrics import accuracy_score\n",
    "print('Accuracy:%.2f'%accuracy_score(y_test,y_pred))\n",
    "plt.show()"
   ]
  },
  {
   "cell_type": "code",
   "execution_count": null,
   "metadata": {},
   "outputs": [],
   "source": []
  }
 ],
 "metadata": {
  "kernelspec": {
   "display_name": "Python 3",
   "language": "python",
   "name": "python3"
  },
  "language_info": {
   "codemirror_mode": {
    "name": "ipython",
    "version": 3
   },
   "file_extension": ".py",
   "mimetype": "text/x-python",
   "name": "python",
   "nbconvert_exporter": "python",
   "pygments_lexer": "ipython3",
   "version": "3.7.3"
  }
 },
 "nbformat": 4,
 "nbformat_minor": 2
}
